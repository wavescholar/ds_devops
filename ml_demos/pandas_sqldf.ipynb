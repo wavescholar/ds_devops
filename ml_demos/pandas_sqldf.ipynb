{
 "cells": [
  {
   "cell_type": "code",
   "execution_count": 2,
   "id": "6312bd57-70d8-4cb3-bcb2-fca23fb8d628",
   "metadata": {},
   "outputs": [],
   "source": [
    "import pandas as pd\n",
    "import qgrid"
   ]
  },
  {
   "cell_type": "code",
   "execution_count": 6,
   "id": "107c171b-76e6-4a62-b7c0-70a6e6eb2bde",
   "metadata": {},
   "outputs": [
    {
     "name": "stderr",
     "output_type": "stream",
     "text": [
      "/home/bruce/anaconda3/envs/snowflakes/lib/python3.8/site-packages/IPython/core/interactiveshell.py:3441: FutureWarning: The error_bad_lines argument has been deprecated and will be removed in a future version.\n",
      "\n",
      "\n",
      "  exec(code_obj, self.user_global_ns, self.user_ns)\n",
      "b'Skipping line 210: expected 4 fields, saw 5\\nSkipping line 213: expected 4 fields, saw 5\\nSkipping line 214: expected 4 fields, saw 5\\nSkipping line 217: expected 4 fields, saw 5\\nSkipping line 221: expected 4 fields, saw 5\\nSkipping line 494: expected 4 fields, saw 6\\nSkipping line 588: expected 4 fields, saw 5\\n'\n"
     ]
    }
   ],
   "source": [
    "df =pd.read_csv('/home/bruce/work/RH/lab_work/lifecycle_api_ingest/product_phases.csv',error_bad_lines=False)"
   ]
  },
  {
   "cell_type": "code",
   "execution_count": 9,
   "id": "76b2b5c2-d4b8-4d37-abbf-59c612d94d9f",
   "metadata": {},
   "outputs": [
    {
     "data": {
      "text/plain": [
       "<module 'qgrid' from '/home/bruce/anaconda3/envs/snowflakes/lib/python3.8/site-packages/qgrid/__init__.py'>"
      ]
     },
     "execution_count": 9,
     "metadata": {},
     "output_type": "execute_result"
    }
   ],
   "source": [
    "qgrid_widget = qgrid.show_grid(df, show_toolbar= True)\n",
    "qgrid"
   ]
  }
 ],
 "metadata": {
  "kernelspec": {
   "display_name": "snowflakes",
   "language": "python",
   "name": "snowflakes"
  },
  "language_info": {
   "codemirror_mode": {
    "name": "ipython",
    "version": 3
   },
   "file_extension": ".py",
   "mimetype": "text/x-python",
   "name": "python",
   "nbconvert_exporter": "python",
   "pygments_lexer": "ipython3",
   "version": "3.8.11"
  }
 },
 "nbformat": 4,
 "nbformat_minor": 5
}
